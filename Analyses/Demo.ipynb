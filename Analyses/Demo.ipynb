{
 "cells": [
  {
   "cell_type": "code",
   "execution_count": 1,
   "metadata": {
    "pycharm": {
     "is_executing": false
    }
   },
   "outputs": [],
   "source": [
    "from Likelihoods import WishartProcessLikelihood\n",
    "from Models import WishartProcess\n",
    "import tensorflow as tf\n",
    "import gpflow\n",
    "from gpflow.utilities import print_summary\n",
    "from gpflow.kernels import Sum, Cosine, SquaredExponential\n",
    "import numpy as np\n",
    "from numpy.random import uniform, normal\n",
    "np.random.seed(0)\n",
    "import matplotlib.pyplot as plt"
   ]
  },
  {
   "cell_type": "markdown",
   "source": [
    "### Generate synthetic data & visualize results"
   ],
   "metadata": {
    "collapsed": false,
    "pycharm": {
     "name": "#%% md\n"
    }
   }
  },
  {
   "cell_type": "code",
   "metadata": {
    "pycharm": {
     "is_executing": false,
     "name": "#%% \n"
    }
   },
   "source": [
    "N, D = 5, 4\n",
    "T = 10\n",
    "X = np.array([np.linspace(0,T,N) for i in range(D)]).T\n",
    "noise = normal(0, 1, (N,D))\n",
    "Y= uniform(1.5, 2, D)*np.cos(0.6*X+uniform(0,2*np.pi,D))*np.sin(1.1*X+uniform(0,2*np.pi,D)) + noise\n",
    "data = (X,Y)\n",
    "\n",
    "fig, ax = plt.subplots(D,1, sharex=True, sharey=True, figsize=(10,6))\n",
    "if not isinstance(ax, np.ndarray):\n",
    "    ax=[ax]\n",
    "colors = ['darkred', 'firebrick', 'red', 'salmon']\n",
    "for i in range(D):\n",
    "    ax[i].plot(X[:,i], Y[:,i],color=colors[i])\n",
    "    ax[i].set_xlim((0,T))\n",
    "    if i==2:          \n",
    "        ax[i].set_ylabel('measurement')\n",
    "    if i==3:\n",
    "        ax[i].set_xlabel('time')\n",
    "plt.show()"
   ],
   "execution_count": 2,
   "outputs": [
    {
     "data": {
      "text/plain": "<Figure size 720x432 with 4 Axes>",
      "image/png": "[encoded data removed]"
     },
     "metadata": {
      "needs_background": "light"
     },
     "output_type": "display_data"
    }
   ]
  },
  {
   "cell_type": "markdown",
   "source": [
    "### Model initialization"
   ],
   "metadata": {
    "collapsed": false,
    "pycharm": {
     "name": "#%% md\n"
    }
   }
  },
  {
   "cell_type": "code",
   "execution_count": 3,
   "outputs": [],
   "source": [
    "## Model parameters\n",
    "DoF = D # Degrees of freedom \n",
    "latent_dim = int(DoF*D)\n",
    "R = 10 # samples for variational expectation\n",
    "M = N # num inducing point. exact (non-sparse) model is obtained by setting M=N\n",
    "shared_kernel = True # shares the same kernel parameters across input dimension if true\n",
    "\n",
    "if M==N:\n",
    "    Z_init = tf.identity(X)#X.copy()\n",
    "else:\n",
    "    Z_init = np.array([np.linspace(0, T, M) for i in range(D)]).T #.reshape(M,1) # initial inducing variable locations\n",
    "\n",
    "max_iter = 2000\n",
    "\n",
    "\n",
    "## Kernel\n",
    "if shared_kernel:\n",
    "    kernel = gpflow.kernels.SharedIndependent(Sum([SquaredExponential() * Cosine(lengthscales=8./(i+1)) for i in range(3)]), output_dim=latent_dim)\n",
    "else:\n",
    "    kern_list = [Sum([SquaredExponential() * Cosine(lengthscales=5./(i+1)) for i in range(2)]) for _ in range(D)]\n",
    "    kernel = gpflow.kernels.SeparateIndependent(kern_list)\n",
    "## Likelihood\n",
    "likelihood = WishartProcessLikelihood.FullWishartLikelihood(D, DoF, R=R)\n",
    "#likelihood = gpflow.likelihoods.Gaussian()"
   ],
   "metadata": {
    "collapsed": false,
    "pycharm": {
     "name": "#%%\n",
     "is_executing": false
    }
   }
  },
  {
   "cell_type": "code",
   "execution_count": 4,
   "outputs": [
    {
     "name": "stdout",
     "text": [
      "╒════════════════════════════════════════════════════════════════════╤═══════════╤════════════════╤═════════╤═════════════╤════════════╤═════════╤════════════════════════════╕\n",
      "│ name                                                               │ class     │ transform      │ prior   │ trainable   │ shape      │ dtype   │ value                      │\n",
      "╞════════════════════════════════════════════════════════════════════╪═══════════╪════════════════╪═════════╪═════════════╪════════════╪═════════╪════════════════════════════╡\n",
      "│ InvWishartProcess.kernel.kernel.kernels[0].kernels[0].variance     │ Parameter │ Softplus       │         │ True        │ ()         │ float64 │ 1.0                        │\n",
      "├────────────────────────────────────────────────────────────────────┼───────────┼────────────────┼─────────┼─────────────┼────────────┼─────────┼────────────────────────────┤\n",
      "│ InvWishartProcess.kernel.kernel.kernels[0].kernels[0].lengthscales │ Parameter │ Softplus       │         │ True        │ ()         │ float64 │ 1.0                        │\n",
      "├────────────────────────────────────────────────────────────────────┼───────────┼────────────────┼─────────┼─────────────┼────────────┼─────────┼────────────────────────────┤\n",
      "│ InvWishartProcess.kernel.kernel.kernels[0].kernels[1].variance     │ Parameter │ Softplus       │         │ True        │ ()         │ float64 │ 1.0                        │\n",
      "├────────────────────────────────────────────────────────────────────┼───────────┼────────────────┼─────────┼─────────────┼────────────┼─────────┼────────────────────────────┤\n",
      "│ InvWishartProcess.kernel.kernel.kernels[0].kernels[1].lengthscales │ Parameter │ Softplus       │         │ True        │ ()         │ float64 │ 8.0                        │\n",
      "├────────────────────────────────────────────────────────────────────┼───────────┼────────────────┼─────────┼─────────────┼────────────┼─────────┼────────────────────────────┤\n",
      "│ InvWishartProcess.kernel.kernel.kernels[1].kernels[0].variance     │ Parameter │ Softplus       │         │ True        │ ()         │ float64 │ 1.0                        │\n",
      "├────────────────────────────────────────────────────────────────────┼───────────┼────────────────┼─────────┼─────────────┼────────────┼─────────┼────────────────────────────┤\n",
      "│ InvWishartProcess.kernel.kernel.kernels[1].kernels[0].lengthscales │ Parameter │ Softplus       │         │ True        │ ()         │ float64 │ 1.0                        │\n",
      "├────────────────────────────────────────────────────────────────────┼───────────┼────────────────┼─────────┼─────────────┼────────────┼─────────┼────────────────────────────┤\n",
      "│ InvWishartProcess.kernel.kernel.kernels[1].kernels[1].variance     │ Parameter │ Softplus       │         │ True        │ ()         │ float64 │ 1.0                        │\n",
      "├────────────────────────────────────────────────────────────────────┼───────────┼────────────────┼─────────┼─────────────┼────────────┼─────────┼────────────────────────────┤\n",
      "│ InvWishartProcess.kernel.kernel.kernels[1].kernels[1].lengthscales │ Parameter │ Softplus       │         │ True        │ ()         │ float64 │ 4.0                        │\n",
      "├────────────────────────────────────────────────────────────────────┼───────────┼────────────────┼─────────┼─────────────┼────────────┼─────────┼────────────────────────────┤\n",
      "│ InvWishartProcess.kernel.kernel.kernels[2].kernels[0].variance     │ Parameter │ Softplus       │         │ True        │ ()         │ float64 │ 1.0                        │\n",
      "├────────────────────────────────────────────────────────────────────┼───────────┼────────────────┼─────────┼─────────────┼────────────┼─────────┼────────────────────────────┤\n",
      "│ InvWishartProcess.kernel.kernel.kernels[2].kernels[0].lengthscales │ Parameter │ Softplus       │         │ True        │ ()         │ float64 │ 1.0                        │\n",
      "├────────────────────────────────────────────────────────────────────┼───────────┼────────────────┼─────────┼─────────────┼────────────┼─────────┼────────────────────────────┤\n",
      "│ InvWishartProcess.kernel.kernel.kernels[2].kernels[1].variance     │ Parameter │ Softplus       │         │ True        │ ()         │ float64 │ 1.0                        │\n",
      "├────────────────────────────────────────────────────────────────────┼───────────┼────────────────┼─────────┼─────────────┼────────────┼─────────┼────────────────────────────┤\n",
      "│ InvWishartProcess.kernel.kernel.kernels[2].kernels[1].lengthscales │ Parameter │ Softplus       │         │ True        │ ()         │ float64 │ 2.6666666666666665         │\n",
      "├────────────────────────────────────────────────────────────────────┼───────────┼────────────────┼─────────┼─────────────┼────────────┼─────────┼────────────────────────────┤\n",
      "│ InvWishartProcess.likelihood.A                                     │ Parameter │ Softplus       │         │ False       │ (4,)       │ float64 │ [1., 1., 1....             │\n",
      "├────────────────────────────────────────────────────────────────────┼───────────┼────────────────┼─────────┼─────────────┼────────────┼─────────┼────────────────────────────┤\n",
      "│ InvWishartProcess.likelihood.p_sigma2inv_conc                      │ Parameter │ Softplus       │         │ False       │ ()         │ float64 │ 0.10000000000000002        │\n",
      "├────────────────────────────────────────────────────────────────────┼───────────┼────────────────┼─────────┼─────────────┼────────────┼─────────┼────────────────────────────┤\n",
      "│ InvWishartProcess.likelihood.p_sigma2inv_rate                      │ Parameter │ Softplus       │         │ False       │ ()         │ float64 │ 9.999999999999999e-05      │\n",
      "├────────────────────────────────────────────────────────────────────┼───────────┼────────────────┼─────────┼─────────────┼────────────┼─────────┼────────────────────────────┤\n",
      "│ InvWishartProcess.likelihood.q_sigma2inv_conc                      │ Parameter │ Softplus       │         │ False       │ (4,)       │ float64 │ [0.1, 0.1, 0.1...          │\n",
      "├────────────────────────────────────────────────────────────────────┼───────────┼────────────────┼─────────┼─────────────┼────────────┼─────────┼────────────────────────────┤\n",
      "│ InvWishartProcess.likelihood.q_sigma2inv_rate                      │ Parameter │ Softplus       │         │ False       │ (4,)       │ float64 │ [1.e-04, 1.e-04, 1.e-04... │\n",
      "├────────────────────────────────────────────────────────────────────┼───────────┼────────────────┼─────────┼─────────────┼────────────┼─────────┼────────────────────────────┤\n",
      "│ InvWishartProcess.inducing_variable.inducing_variable.Z            │ Parameter │ Identity       │         │ False       │ (5, 4)     │ float64 │ [[0., 0., 0....            │\n",
      "├────────────────────────────────────────────────────────────────────┼───────────┼────────────────┼─────────┼─────────────┼────────────┼─────────┼────────────────────────────┤\n",
      "│ InvWishartProcess.q_mu                                             │ Parameter │ Identity       │         │ True        │ (5, 16)    │ float64 │ [[0., 0., 0....            │\n",
      "├────────────────────────────────────────────────────────────────────┼───────────┼────────────────┼─────────┼─────────────┼────────────┼─────────┼────────────────────────────┤\n",
      "│ InvWishartProcess.q_sqrt                                           │ Parameter │ FillTriangular │         │ True        │ (16, 5, 5) │ float64 │ [[[1., 0., 0....           │\n",
      "╘════════════════════════════════════════════════════════════════════╧═══════════╧════════════════╧═════════╧═════════════╧════════════╧═════════╧════════════════════════════╛\n"
     ],
     "output_type": "stream"
    }
   ],
   "source": [
    "## Construct model\n",
    "Z = tf.identity(Z_init)#Z_init.copy()\n",
    "iv = gpflow.inducing_variables.SharedIndependentInducingVariables(\n",
    "    gpflow.inducing_variables.InducingPoints(Z)) # multi output inducing variables\n",
    "\n",
    "wishart_process = WishartProcess.InvWishartProcess(kernel, likelihood, D=D, DoF=DoF, inducing_variable=iv)\n",
    "if M==N:\n",
    "    gpflow.set_trainable(wishart_process.inducing_variable, False)\n",
    "print_summary(wishart_process)"
   ],
   "metadata": {
    "collapsed": false,
    "pycharm": {
     "name": "#%%\n",
     "is_executing": false
    }
   }
  },
  {
   "cell_type": "markdown",
   "source": [
    "Train model"
   ],
   "metadata": {
    "collapsed": false,
    "pycharm": {
     "name": "#%% md\n",
     "is_executing": false
    }
   }
  },
  {
   "cell_type": "code",
   "execution_count": 7,
   "outputs": [
    {
     "name": "stdout",
     "text": [
      "made it to _scalar_log_prob\n"
     ],
     "output_type": "stream"
    }
   ],
   "source": [
    "def optimize_model_with_scipy(model):\n",
    "    optimizer = gpflow.optimizers.Scipy()\n",
    "    optimizer.minimize(\n",
    "        model.training_loss_closure(data),\n",
    "        variables=model.trainable_variables,\n",
    "        method=\"l-bfgs-b\",\n",
    "        options={\"disp\": True, \"maxiter\": max_iter},\n",
    "    )\n",
    "\n",
    "\n",
    "optimize_model_with_scipy(model=wishart_process)\n",
    "print_summary(wishart_process)\n",
    "\n",
    "\n"
   ],
   "metadata": {
    "collapsed": false,
    "pycharm": {
     "name": "#%% \n",
     "is_executing": false
    }
   }
  },
  {
   "cell_type": "markdown",
   "source": [
    "Visualize results\n"
   ],
   "metadata": {
    "collapsed": false,
    "pycharm": {
     "name": "#%% md\n",
     "is_executing": false
    }
   }
  },
  {
   "cell_type": "code",
   "execution_count": null,
   "outputs": [],
   "source": [
    "def plot_model(model):\n",
    "    pY, pYv = model.predict_y(X)\n",
    "    print(pY.shape, pYv.shape)\n",
    "    fig, ax = plt.subplots(D,1, sharex=True, sharey=True, figsize=(8,6))\n",
    "    if not isinstance(ax, np.ndarray):\n",
    "        ax=[ax]\n",
    "    colors = ['darkred', 'firebrick', 'red', 'salmon']\n",
    "    for i in range(D):\n",
    "        # data\n",
    "        ax[i].plot(X[:,i], Y[:,i],color='black', label='Observations')\n",
    "        # mean\n",
    "        ax[i].plot(X[:,i], pY[:,i],color=colors[i],label='Posterior mean')\n",
    "        ax[i].set_xlim((0,T))\n",
    "        \n",
    "        # 2*std\n",
    "        top = pY[:, i] + 2.0 * pYv[:, i] ** 0.5\n",
    "        bot = pY[:, i] - 2.0 * pYv[:, i] ** 0.5\n",
    "        ax[i].fill_between(X[:,i], top, bot, alpha=0.3, color=colors[i], label='2$\\sigma$')\n",
    "        if i==2:          \n",
    "            ax[i].set_ylabel('measurement')\n",
    "        if i==3:\n",
    "            ax[i].set_xlabel('time')\n",
    "    handles, labels = ax[-1].get_legend_handles_labels()    \n",
    "    fig.suptitle(f\"ELBO: {model.elbo(data):.3}\")\n",
    "    plt.tight_layout()    \n",
    "    fig.legend(handles, labels, loc='center right')\n",
    "    plt.show()\n",
    "plot_model(wishart_process)\n",
    "\n"
   ],
   "metadata": {
    "collapsed": false,
    "pycharm": {
     "name": "#%%\n",
     "is_executing": false
    }
   }
  },
  {
   "cell_type": "code",
   "execution_count": null,
   "outputs": [],
   "source": [
    "\n"
   ],
   "metadata": {
    "collapsed": false,
    "pycharm": {
     "name": "#%%\n",
     "is_executing": false
    }
   }
  }
 ],
 "metadata": {
  "kernelspec": {
   "display_name": "Python 3",
   "language": "python",
   "name": "python3"
  },
  "language_info": {
   "codemirror_mode": {
    "name": "ipython",
    "version": 3
   },
   "file_extension": ".py",
   "mimetype": "text/x-python",
   "name": "python",
   "nbconvert_exporter": "python",
   "pygments_lexer": "ipython3",
   "version": "3.7.6"
  },
  "pycharm": {
   "stem_cell": {
    "cell_type": "raw",
    "source": [],
    "metadata": {
     "collapsed": false
    }
   }
  }
 },
 "nbformat": 4,
 "nbformat_minor": 4
}